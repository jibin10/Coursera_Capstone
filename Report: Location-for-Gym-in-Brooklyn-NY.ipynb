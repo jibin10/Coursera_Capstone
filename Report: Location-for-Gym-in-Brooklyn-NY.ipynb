{
    "nbformat_minor": 1, 
    "cells": [
        {
            "source": "## Report: Finding locations to open a gym in Brooklyn, NY", 
            "cell_type": "markdown", 
            "metadata": {
                "collapsed": true
            }
        }, 
        {
            "source": "## 1. Introduction / Business Problem", 
            "cell_type": "markdown", 
            "metadata": {}
        }, 
        {
            "source": "A fitness club group is interested in opening up their Gym/Fitness center in Brooklyn, NY. This project report is for the director board of the fitness club to suggest potential Gym/Fitness center locations closer to the city center of Brooklyn, NY & away from other Gym/Fitness centers, Boxing clubs or Gym pools.\n\nThere are several gym & fitness centers already operating in the Brooklyn area. <b>Our goal is to identify locations within 5km from the Brooklyn city center and about 3km away from an existing Gym or Fitness club. We will leverage the Foursquare Places API to find the candidate neighborhood centers for the Gym.</b>\n\nThe analysis would be helpful to the director board of the company in finding the best location for their endeavor. When with the conditions are met, the suggested locations will be attractive to the people living in the neighborhoods to avail the facilities closer to them.", 
            "cell_type": "markdown", 
            "metadata": {}
        }, 
        {
            "source": "## 2. Data", 
            "cell_type": "markdown", 
            "metadata": {}
        }, 
        {
            "source": "We have to find the dataset with neighborhoods, latitude, longitude of Brooklyn. We can explore each neighborhood to find the most common venue categories in each neighborhood using the explore function of Foursquare Places API.  Once the venues are identified, we can filter the venue categories to find the existing Gym/Fitness centers in each neighborhood and use the data for further analysis.\n\nFortunately, we have a dataset available free in the New York University's spatial data repository  geo.nyu.edu. The dataset is named 'New York City Neighborhood Names' in JSON format consists of the boroughs, neighborhood names, geo coordinates, etc of New York. Here are the links to the New York neighborhood dataset:\n\nDescription: \nhttps://geo.nyu.edu/catalog/nyu-2451-34572 <br />\nDownload GeoJSON:\n https://geo.nyu.edu/catalog/nyu_2451_34572 \n\nAs the dataset is already available in a structured format with all available features. The dataset will save a substantial amount of time we spent on data pre-processing, formatting, Normalization, feature selection, etc (Known as data wrangling).  But while exploring the venues in each neighborhood & filtering the Gym/Fitness center, we have to add important features such as coordinates of the location in UTM cartesian coordinate system (X/Y coordinates in meters).  And the distance from the Brooklyn city center to the venue. \n\nWe will create python functions to convert between WGS84 spherical coordinate system (latitude/longitude degrees) and UTM Cartesian coordinate system (X/Y coordinates in meters). As well as finding the distance of each Gym/Fitness center from the city center.", 
            "cell_type": "markdown", 
            "metadata": {}
        }, 
        {
            "execution_count": null, 
            "cell_type": "code", 
            "metadata": {}, 
            "outputs": [], 
            "source": ""
        }
    ], 
    "metadata": {
        "kernelspec": {
            "display_name": "Python 3.6", 
            "name": "python3", 
            "language": "python"
        }, 
        "language_info": {
            "mimetype": "text/x-python", 
            "nbconvert_exporter": "python", 
            "version": "3.6.8", 
            "name": "python", 
            "file_extension": ".py", 
            "pygments_lexer": "ipython3", 
            "codemirror_mode": {
                "version": 3, 
                "name": "ipython"
            }
        }
    }, 
    "nbformat": 4
}